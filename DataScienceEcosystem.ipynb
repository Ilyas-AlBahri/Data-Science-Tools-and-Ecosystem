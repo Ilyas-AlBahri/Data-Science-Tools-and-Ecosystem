{
 "cells": [
  {
   "cell_type": "markdown",
   "id": "ac06bd26-544e-460d-9baf-a70f7a1faba7",
   "metadata": {},
   "source": [
    "# Data Science Tools and Ecosystem"
   ]
  },
  {
   "cell_type": "markdown",
   "id": "6a0c79cc-7054-4135-9b31-b1a395512713",
   "metadata": {},
   "source": [
    "In this notebook, Data Science Tools and Ecosystem are summarized."
   ]
  },
  {
   "cell_type": "markdown",
   "id": "6cd8cbb9-8dd4-491c-90a3-176378369456",
   "metadata": {},
   "source": [
    "**Objectives:**\n",
    "* List data science libraries\n",
    "* List popular languages for Data Science\n",
    "* Creat a table of Data Science tools\n",
    "* Create a code cell to multiply and add numbers\n",
    "* Create a code cell to convert minutes to hours"
   ]
  },
  {
   "cell_type": "markdown",
   "id": "7df683d1-0b90-4c64-963d-4e5fab227d45",
   "metadata": {},
   "source": [
    "Some of the popular languages that Data Scientists use are:\n",
    "1. Python\n",
    "2. R\n",
    "3. C++"
   ]
  },
  {
   "cell_type": "markdown",
   "id": "c9592dba-bad4-4d78-b823-d60b9bafeea2",
   "metadata": {},
   "source": [
    "Some of the commonly used libraries used by Data Scientists include:\n",
    "1. Numpy\n",
    "2. Pandas\n",
    "3. ggplot2"
   ]
  },
  {
   "cell_type": "markdown",
   "id": "f2dd62b7-aff8-464b-bb49-0b654e63e612",
   "metadata": {},
   "source": [
    "|Data Science Tools|\n",
    "|------------------|\n",
    "|Jypyter Notebook|\n",
    "|RStudio|\n",
    "|Visual Studio Code|"
   ]
  },
  {
   "cell_type": "markdown",
   "id": "80b60b8b-7cd3-41d3-923d-abee53c0a899",
   "metadata": {},
   "source": [
    "### Below are a few examples of evaluating arithmetic expressions in Python"
   ]
  },
  {
   "cell_type": "code",
   "execution_count": 59,
   "id": "0cffed65-0aa4-4c76-82d9-9402c0a60d24",
   "metadata": {},
   "outputs": [
    {
     "name": "stdout",
     "output_type": "stream",
     "text": [
      "17\n"
     ]
    }
   ],
   "source": [
    "# This a simple arithmetic expression to mutiply then add integers\n",
    "x = (3*4)+5\n",
    "print (x)"
   ]
  },
  {
   "cell_type": "code",
   "execution_count": 61,
   "id": "9744ce4e-5a32-4b45-a71f-ec5c08070f85",
   "metadata": {},
   "outputs": [
    {
     "name": "stdout",
     "output_type": "stream",
     "text": [
      "3.3333333333333335\n"
     ]
    }
   ],
   "source": [
    "# This will convert 200 minutes to hours by diving by 60\n",
    "y = 200 #Minutes to be converted\n",
    "z = y/60\n",
    "print (z)"
   ]
  },
  {
   "cell_type": "markdown",
   "id": "88148c32-b8ae-4d0e-aac6-55027121d03a",
   "metadata": {},
   "source": [
    "## Author\n",
    "Ilyas Al Bahri"
   ]
  }
 ],
 "metadata": {
  "kernelspec": {
   "display_name": "Python [conda env:base] *",
   "language": "python",
   "name": "conda-base-py"
  },
  "language_info": {
   "codemirror_mode": {
    "name": "ipython",
    "version": 3
   },
   "file_extension": ".py",
   "mimetype": "text/x-python",
   "name": "python",
   "nbconvert_exporter": "python",
   "pygments_lexer": "ipython3",
   "version": "3.12.7"
  }
 },
 "nbformat": 4,
 "nbformat_minor": 5
}
